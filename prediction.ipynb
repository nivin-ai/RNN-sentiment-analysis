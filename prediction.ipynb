{
 "cells": [
  {
   "cell_type": "code",
   "execution_count": 2,
   "metadata": {},
   "outputs": [],
   "source": [
    "import numpy as np\n",
    "import tensorflow as tf\n",
    "from tensorflow.keras.datasets import imdb\n",
    "from tensorflow.keras.preprocessing import sequence\n",
    "from tensorflow.keras.models import load_model"
   ]
  },
  {
   "cell_type": "code",
   "execution_count": 3,
   "metadata": {},
   "outputs": [],
   "source": [
    "word_index = imdb.get_word_index()\n",
    "reverse_word_index = {value: key for key, value in word_index.items()}"
   ]
  },
  {
   "cell_type": "code",
   "execution_count": 4,
   "metadata": {},
   "outputs": [
    {
     "name": "stderr",
     "output_type": "stream",
     "text": [
      "WARNING:absl:Compiled the loaded model, but the compiled metrics have yet to be built. `model.compile_metrics` will be empty until you train or evaluate the model.\n"
     ]
    },
    {
     "data": {
      "text/html": [
       "<pre style=\"white-space:pre;overflow-x:auto;line-height:normal;font-family:Menlo,'DejaVu Sans Mono',consolas,'Courier New',monospace\"><span style=\"font-weight: bold\">Model: \"sequential_3\"</span>\n",
       "</pre>\n"
      ],
      "text/plain": [
       "\u001b[1mModel: \"sequential_3\"\u001b[0m\n"
      ]
     },
     "metadata": {},
     "output_type": "display_data"
    },
    {
     "data": {
      "text/html": [
       "<pre style=\"white-space:pre;overflow-x:auto;line-height:normal;font-family:Menlo,'DejaVu Sans Mono',consolas,'Courier New',monospace\">┏━━━━━━━━━━━━━━━━━━━━━━━━━━━━━━━━━┳━━━━━━━━━━━━━━━━━━━━━━━━┳━━━━━━━━━━━━━━━┓\n",
       "┃<span style=\"font-weight: bold\"> Layer (type)                    </span>┃<span style=\"font-weight: bold\"> Output Shape           </span>┃<span style=\"font-weight: bold\">       Param # </span>┃\n",
       "┡━━━━━━━━━━━━━━━━━━━━━━━━━━━━━━━━━╇━━━━━━━━━━━━━━━━━━━━━━━━╇━━━━━━━━━━━━━━━┩\n",
       "│ embedding_3 (<span style=\"color: #0087ff; text-decoration-color: #0087ff\">Embedding</span>)         │ (<span style=\"color: #00d7ff; text-decoration-color: #00d7ff\">None</span>, <span style=\"color: #00af00; text-decoration-color: #00af00\">500</span>, <span style=\"color: #00af00; text-decoration-color: #00af00\">128</span>)       │     <span style=\"color: #00af00; text-decoration-color: #00af00\">1,280,000</span> │\n",
       "├─────────────────────────────────┼────────────────────────┼───────────────┤\n",
       "│ simple_rnn_3 (<span style=\"color: #0087ff; text-decoration-color: #0087ff\">SimpleRNN</span>)        │ (<span style=\"color: #00d7ff; text-decoration-color: #00d7ff\">None</span>, <span style=\"color: #00af00; text-decoration-color: #00af00\">128</span>)            │        <span style=\"color: #00af00; text-decoration-color: #00af00\">32,896</span> │\n",
       "├─────────────────────────────────┼────────────────────────┼───────────────┤\n",
       "│ dense_3 (<span style=\"color: #0087ff; text-decoration-color: #0087ff\">Dense</span>)                 │ (<span style=\"color: #00d7ff; text-decoration-color: #00d7ff\">None</span>, <span style=\"color: #00af00; text-decoration-color: #00af00\">1</span>)              │           <span style=\"color: #00af00; text-decoration-color: #00af00\">129</span> │\n",
       "└─────────────────────────────────┴────────────────────────┴───────────────┘\n",
       "</pre>\n"
      ],
      "text/plain": [
       "┏━━━━━━━━━━━━━━━━━━━━━━━━━━━━━━━━━┳━━━━━━━━━━━━━━━━━━━━━━━━┳━━━━━━━━━━━━━━━┓\n",
       "┃\u001b[1m \u001b[0m\u001b[1mLayer (type)                   \u001b[0m\u001b[1m \u001b[0m┃\u001b[1m \u001b[0m\u001b[1mOutput Shape          \u001b[0m\u001b[1m \u001b[0m┃\u001b[1m \u001b[0m\u001b[1m      Param #\u001b[0m\u001b[1m \u001b[0m┃\n",
       "┡━━━━━━━━━━━━━━━━━━━━━━━━━━━━━━━━━╇━━━━━━━━━━━━━━━━━━━━━━━━╇━━━━━━━━━━━━━━━┩\n",
       "│ embedding_3 (\u001b[38;5;33mEmbedding\u001b[0m)         │ (\u001b[38;5;45mNone\u001b[0m, \u001b[38;5;34m500\u001b[0m, \u001b[38;5;34m128\u001b[0m)       │     \u001b[38;5;34m1,280,000\u001b[0m │\n",
       "├─────────────────────────────────┼────────────────────────┼───────────────┤\n",
       "│ simple_rnn_3 (\u001b[38;5;33mSimpleRNN\u001b[0m)        │ (\u001b[38;5;45mNone\u001b[0m, \u001b[38;5;34m128\u001b[0m)            │        \u001b[38;5;34m32,896\u001b[0m │\n",
       "├─────────────────────────────────┼────────────────────────┼───────────────┤\n",
       "│ dense_3 (\u001b[38;5;33mDense\u001b[0m)                 │ (\u001b[38;5;45mNone\u001b[0m, \u001b[38;5;34m1\u001b[0m)              │           \u001b[38;5;34m129\u001b[0m │\n",
       "└─────────────────────────────────┴────────────────────────┴───────────────┘\n"
      ]
     },
     "metadata": {},
     "output_type": "display_data"
    },
    {
     "data": {
      "text/html": [
       "<pre style=\"white-space:pre;overflow-x:auto;line-height:normal;font-family:Menlo,'DejaVu Sans Mono',consolas,'Courier New',monospace\"><span style=\"font-weight: bold\"> Total params: </span><span style=\"color: #00af00; text-decoration-color: #00af00\">1,313,027</span> (5.01 MB)\n",
       "</pre>\n"
      ],
      "text/plain": [
       "\u001b[1m Total params: \u001b[0m\u001b[38;5;34m1,313,027\u001b[0m (5.01 MB)\n"
      ]
     },
     "metadata": {},
     "output_type": "display_data"
    },
    {
     "data": {
      "text/html": [
       "<pre style=\"white-space:pre;overflow-x:auto;line-height:normal;font-family:Menlo,'DejaVu Sans Mono',consolas,'Courier New',monospace\"><span style=\"font-weight: bold\"> Trainable params: </span><span style=\"color: #00af00; text-decoration-color: #00af00\">1,313,025</span> (5.01 MB)\n",
       "</pre>\n"
      ],
      "text/plain": [
       "\u001b[1m Trainable params: \u001b[0m\u001b[38;5;34m1,313,025\u001b[0m (5.01 MB)\n"
      ]
     },
     "metadata": {},
     "output_type": "display_data"
    },
    {
     "data": {
      "text/html": [
       "<pre style=\"white-space:pre;overflow-x:auto;line-height:normal;font-family:Menlo,'DejaVu Sans Mono',consolas,'Courier New',monospace\"><span style=\"font-weight: bold\"> Non-trainable params: </span><span style=\"color: #00af00; text-decoration-color: #00af00\">0</span> (0.00 B)\n",
       "</pre>\n"
      ],
      "text/plain": [
       "\u001b[1m Non-trainable params: \u001b[0m\u001b[38;5;34m0\u001b[0m (0.00 B)\n"
      ]
     },
     "metadata": {},
     "output_type": "display_data"
    },
    {
     "data": {
      "text/html": [
       "<pre style=\"white-space:pre;overflow-x:auto;line-height:normal;font-family:Menlo,'DejaVu Sans Mono',consolas,'Courier New',monospace\"><span style=\"font-weight: bold\"> Optimizer params: </span><span style=\"color: #00af00; text-decoration-color: #00af00\">2</span> (12.00 B)\n",
       "</pre>\n"
      ],
      "text/plain": [
       "\u001b[1m Optimizer params: \u001b[0m\u001b[38;5;34m2\u001b[0m (12.00 B)\n"
      ]
     },
     "metadata": {},
     "output_type": "display_data"
    }
   ],
   "source": [
    "## load the model\n",
    "model = load_model('simple_rnn_imdb.h5')\n",
    "model.summary()"
   ]
  },
  {
   "cell_type": "code",
   "execution_count": 5,
   "metadata": {},
   "outputs": [
    {
     "data": {
      "text/plain": [
       "[array([[ 0.09221037, -0.32082734,  0.07227439, ..., -0.27396566,\n",
       "         -0.01285857, -0.08364403],\n",
       "        [ 0.02982334, -0.0194071 , -0.02876477, ..., -0.06581512,\n",
       "          0.02850244, -0.04115206],\n",
       "        [ 0.07006818, -0.06868756, -0.1420704 , ..., -0.10405891,\n",
       "         -0.0374384 ,  0.08397062],\n",
       "        ...,\n",
       "        [-0.06431428,  0.10020278, -0.10991019, ...,  0.06413329,\n",
       "          0.18184876,  0.15515696],\n",
       "        [-0.14258589,  0.12870236, -0.15741503, ...,  0.26005277,\n",
       "          0.1796059 ,  0.19111376],\n",
       "        [ 0.02314855, -0.03590856,  0.08033758, ..., -0.03309582,\n",
       "          0.12281614, -0.15618452]], dtype=float32),\n",
       " array([[ 0.21874286, -0.14507791, -0.0043315 , ..., -0.05088411,\n",
       "         -0.0081713 , -0.09014266],\n",
       "        [ 0.05080825,  0.06114534,  0.06589621, ..., -0.03433066,\n",
       "         -0.11549693, -0.04359339],\n",
       "        [-0.06502146,  0.07188184, -0.11231492, ..., -0.06126705,\n",
       "          0.0881174 ,  0.05231298],\n",
       "        ...,\n",
       "        [-0.19436912,  0.04566408,  0.04550483, ...,  0.11597306,\n",
       "          0.18384953, -0.00926696],\n",
       "        [-0.18751591, -0.0062901 , -0.00876166, ..., -0.05914994,\n",
       "          0.18596227,  0.01560804],\n",
       "        [-0.02388762, -0.08900217, -0.14778855, ..., -0.15906152,\n",
       "          0.03728272, -0.11746451]], dtype=float32),\n",
       " array([[ 0.17418368,  0.03865194, -0.04678152, ...,  0.01854103,\n",
       "         -0.15619636, -0.1872009 ],\n",
       "        [-0.00578218, -0.15178072,  0.17368954, ..., -0.06331801,\n",
       "         -0.14045303, -0.09171024],\n",
       "        [-0.01374102,  0.04213983, -0.15375996, ..., -0.10399956,\n",
       "         -0.05294678, -0.00955249],\n",
       "        ...,\n",
       "        [-0.08849597, -0.11374273, -0.08988601, ..., -0.0244273 ,\n",
       "          0.21998784,  0.07775918],\n",
       "        [ 0.17511998,  0.16094877,  0.09994961, ..., -0.00509589,\n",
       "          0.02675959, -0.06420141],\n",
       "        [ 0.02178323,  0.16434868, -0.03196299, ..., -0.06138888,\n",
       "          0.05013566,  0.02154128]], dtype=float32),\n",
       " array([ 0.01646158, -0.01216268,  0.01149005, -0.01721798, -0.03957954,\n",
       "        -0.02427157, -0.00134751,  0.0251028 ,  0.02887445, -0.00267846,\n",
       "        -0.01483803, -0.00898825, -0.00289268,  0.00809102, -0.02619082,\n",
       "        -0.01025738,  0.0005185 ,  0.03315282, -0.02643398, -0.02484111,\n",
       "        -0.00668121,  0.01524647, -0.04773829,  0.02713591,  0.05643417,\n",
       "        -0.01114658, -0.00091029,  0.00867385, -0.00644985, -0.04319846,\n",
       "         0.01995745, -0.00836322, -0.00127605,  0.03766028,  0.00458209,\n",
       "         0.0354669 ,  0.06312662,  0.00699111, -0.00513315, -0.00190712,\n",
       "         0.02082915,  0.01295769, -0.02065896, -0.03796542, -0.0181405 ,\n",
       "        -0.00773949, -0.01735119, -0.01434857,  0.01555161,  0.01658127,\n",
       "        -0.03204589, -0.02279186,  0.00642507, -0.06410737,  0.01248235,\n",
       "        -0.00126199,  0.00434125, -0.0591541 , -0.03130762,  0.01480943,\n",
       "         0.00873004,  0.02435062, -0.0044841 ,  0.02724551, -0.01561965,\n",
       "        -0.04588301,  0.03954576,  0.008627  , -0.01526272, -0.02180719,\n",
       "        -0.04026332, -0.01157699,  0.00397806, -0.00017008, -0.04878167,\n",
       "        -0.03411587, -0.04232949, -0.00844307, -0.05724911,  0.02016222,\n",
       "         0.00297712,  0.01445406, -0.02144355, -0.02878444,  0.00896119,\n",
       "        -0.05366512, -0.01618527, -0.00972621, -0.07070452,  0.01419335,\n",
       "        -0.0215096 ,  0.00434045,  0.0106527 , -0.00073131, -0.03113839,\n",
       "        -0.04409415, -0.0220956 ,  0.00815528, -0.03488128, -0.01693146,\n",
       "        -0.00993551, -0.00335659, -0.03940196, -0.02487237,  0.00080859,\n",
       "         0.00644288, -0.03029937,  0.00964768, -0.00079645, -0.04068138,\n",
       "        -0.00166124, -0.01101629, -0.00376142,  0.01203369, -0.04428571,\n",
       "        -0.0575047 , -0.00507072, -0.03170672, -0.02520174,  0.02141215,\n",
       "        -0.02084914, -0.01602812, -0.03999387, -0.00998205, -0.00758834,\n",
       "        -0.01956235, -0.0031092 , -0.00366648], dtype=float32),\n",
       " array([[ 6.02032989e-02],\n",
       "        [ 1.15622550e-01],\n",
       "        [-1.30050778e-01],\n",
       "        [ 7.53731206e-02],\n",
       "        [-1.95794344e-01],\n",
       "        [ 4.64034416e-02],\n",
       "        [ 7.95031562e-02],\n",
       "        [ 1.24901369e-01],\n",
       "        [-1.31604776e-01],\n",
       "        [-7.38318115e-02],\n",
       "        [-5.76639473e-01],\n",
       "        [ 1.08986802e-03],\n",
       "        [-2.36338794e-01],\n",
       "        [ 4.40722965e-02],\n",
       "        [ 1.73293933e-01],\n",
       "        [ 1.96212739e-01],\n",
       "        [ 7.25817680e-02],\n",
       "        [ 3.82447802e-02],\n",
       "        [-7.07591325e-02],\n",
       "        [-2.29937688e-01],\n",
       "        [ 1.16844386e-01],\n",
       "        [ 7.49048218e-02],\n",
       "        [ 4.38949347e-01],\n",
       "        [-4.13333774e-02],\n",
       "        [-1.45847678e-01],\n",
       "        [ 1.63747057e-01],\n",
       "        [-8.00765678e-02],\n",
       "        [ 2.61129856e-01],\n",
       "        [ 5.52441515e-02],\n",
       "        [ 1.15333632e-01],\n",
       "        [ 1.73161820e-01],\n",
       "        [-4.27589267e-02],\n",
       "        [ 2.07212139e-02],\n",
       "        [-1.94675967e-01],\n",
       "        [-1.19915940e-01],\n",
       "        [ 1.97514340e-01],\n",
       "        [ 2.60128886e-01],\n",
       "        [ 1.49613157e-01],\n",
       "        [-7.76179582e-02],\n",
       "        [ 6.34842739e-02],\n",
       "        [ 8.26198235e-02],\n",
       "        [-1.32161245e-01],\n",
       "        [ 1.29805639e-01],\n",
       "        [ 1.75419271e-01],\n",
       "        [ 1.83737740e-01],\n",
       "        [-1.19903058e-01],\n",
       "        [ 1.91746671e-02],\n",
       "        [-1.16120040e-01],\n",
       "        [-2.23285481e-01],\n",
       "        [ 7.99114332e-02],\n",
       "        [-2.90181190e-02],\n",
       "        [-1.27445176e-01],\n",
       "        [ 4.65954188e-03],\n",
       "        [ 1.50395371e-02],\n",
       "        [ 1.97836325e-01],\n",
       "        [ 1.98949322e-01],\n",
       "        [-2.45354176e-01],\n",
       "        [-1.87118463e-02],\n",
       "        [-1.87751383e-01],\n",
       "        [-1.15064442e-01],\n",
       "        [-2.68129669e-02],\n",
       "        [ 1.97635084e-01],\n",
       "        [ 6.15015253e-02],\n",
       "        [-9.39121246e-02],\n",
       "        [ 1.16660252e-01],\n",
       "        [ 2.10866436e-01],\n",
       "        [ 7.46922418e-02],\n",
       "        [-3.97197250e-03],\n",
       "        [ 7.33583719e-02],\n",
       "        [-2.95266151e-01],\n",
       "        [ 1.17692845e-02],\n",
       "        [-8.85864720e-02],\n",
       "        [-6.96470439e-02],\n",
       "        [ 1.21466465e-01],\n",
       "        [ 2.15291302e-03],\n",
       "        [ 1.18913583e-01],\n",
       "        [-1.23222232e-01],\n",
       "        [-7.56359398e-02],\n",
       "        [ 1.28135145e-01],\n",
       "        [ 1.23364545e-01],\n",
       "        [-1.83110218e-02],\n",
       "        [ 6.59924373e-02],\n",
       "        [ 1.30300755e-02],\n",
       "        [ 1.23407364e-01],\n",
       "        [ 5.71734533e-02],\n",
       "        [-4.55714971e-01],\n",
       "        [-1.07004620e-01],\n",
       "        [ 9.38939154e-02],\n",
       "        [-8.83574784e-02],\n",
       "        [ 1.47112653e-01],\n",
       "        [ 9.92144868e-02],\n",
       "        [ 7.91170821e-02],\n",
       "        [ 1.42802954e-01],\n",
       "        [ 1.10023789e-01],\n",
       "        [-2.68649147e-03],\n",
       "        [-7.24143311e-02],\n",
       "        [-1.28380224e-01],\n",
       "        [-1.85279876e-01],\n",
       "        [ 7.57347271e-02],\n",
       "        [-2.25350335e-02],\n",
       "        [-3.53739858e-02],\n",
       "        [ 1.76636219e-01],\n",
       "        [ 4.08633411e-01],\n",
       "        [ 8.20682287e-01],\n",
       "        [ 1.38587384e-02],\n",
       "        [ 4.02099527e-02],\n",
       "        [ 2.23619878e-01],\n",
       "        [-3.85219157e-02],\n",
       "        [ 7.61797205e-02],\n",
       "        [-2.30685622e-01],\n",
       "        [ 7.34659731e-01],\n",
       "        [ 2.55525392e-02],\n",
       "        [-1.59075156e-01],\n",
       "        [ 7.81532377e-02],\n",
       "        [-5.69741093e-02],\n",
       "        [ 1.49168849e-01],\n",
       "        [ 1.24428883e-01],\n",
       "        [ 1.36528015e-01],\n",
       "        [-3.26362476e-02],\n",
       "        [ 3.97353992e-02],\n",
       "        [ 2.01846749e-01],\n",
       "        [ 1.77332476e-01],\n",
       "        [-1.04625218e-01],\n",
       "        [ 1.49583578e-01],\n",
       "        [ 1.01698503e-01],\n",
       "        [ 1.56931415e-01],\n",
       "        [ 1.31937897e+00],\n",
       "        [ 1.91420764e-01]], dtype=float32),\n",
       " array([-1.3375331], dtype=float32)]"
      ]
     },
     "execution_count": 5,
     "metadata": {},
     "output_type": "execute_result"
    }
   ],
   "source": [
    "model.get_weights()"
   ]
  },
  {
   "cell_type": "code",
   "execution_count": 6,
   "metadata": {},
   "outputs": [],
   "source": [
    "## Helper Functions\n",
    "\n",
    "## function to decode the review\n",
    "def decode_review(encoded_review):\n",
    "    return ' '.join([reverse_word_index.get(word-3, '?') for word in encoded_review])\n",
    "\n",
    "## funtion to process user input\n",
    "def preprocess_text(text):\n",
    "    words = text.lower().split()\n",
    "    encoded_review = [word_index.get(word, 2) + 3 for word in words]\n",
    "    padded_review = sequence.pad_sequences([encoded_review], maxlen=500)\n",
    "    return padded_review"
   ]
  },
  {
   "cell_type": "code",
   "execution_count": 7,
   "metadata": {},
   "outputs": [],
   "source": [
    "## prediction function\n",
    "def predict_sentiment(review):\n",
    "    preprocessed_input = preprocess_text(review)\n",
    "    prediction = model.predict(preprocessed_input)\n",
    "\n",
    "    sentiment = 'Positive' if prediction[0][0] > 0.5 else 'Negative'\n",
    "\n",
    "    return sentiment, prediction[0][0]"
   ]
  },
  {
   "cell_type": "code",
   "execution_count": 16,
   "metadata": {},
   "outputs": [
    {
     "name": "stdout",
     "output_type": "stream",
     "text": [
      "\u001b[1m1/1\u001b[0m \u001b[32m━━━━━━━━━━━━━━━━━━━━\u001b[0m\u001b[37m\u001b[0m \u001b[1m0s\u001b[0m 58ms/step\n",
      "Review: The movie was fantastic! The acting was great and the plot was thrilling.\n",
      "Sentiment: Positive\n",
      "Sentiment Score: 0.9996931552886963\n"
     ]
    }
   ],
   "source": [
    "## user input and prediction\n",
    "## example review\n",
    "\n",
    "example_review = \"The movie was fantastic! The acting was great and the plot was thrilling.\"\n",
    "sentiment, sscore = predict_sentiment(example_review)\n",
    "\n",
    "print(f'Review: {example_review}')\n",
    "print(f'Sentiment: {sentiment}')\n",
    "print(f'Sentiment Score: {sscore}')"
   ]
  }
 ],
 "metadata": {
  "kernelspec": {
   "display_name": "venv",
   "language": "python",
   "name": "python3"
  },
  "language_info": {
   "codemirror_mode": {
    "name": "ipython",
    "version": 3
   },
   "file_extension": ".py",
   "mimetype": "text/x-python",
   "name": "python",
   "nbconvert_exporter": "python",
   "pygments_lexer": "ipython3",
   "version": "3.12.5"
  }
 },
 "nbformat": 4,
 "nbformat_minor": 2
}
